{
  "cells": [
    {
      "cell_type": "markdown",
      "metadata": {
        "id": "view-in-github",
        "colab_type": "text"
      },
      "source": [
        "<a href=\"https://colab.research.google.com/github/AlefAdonis/Classifying-Birds-By-Sound/blob/main/ClassifiyngBirdsBySound.ipynb\" target=\"_parent\"><img src=\"https://colab.research.google.com/assets/colab-badge.svg\" alt=\"Open In Colab\"/></a>"
      ]
    },
    {
      "cell_type": "markdown",
      "metadata": {
        "id": "375DUYW9hCzN"
      },
      "source": [
        "# Classificação de Pássaros pelo Som de seu Canto\n",
        "### Percepção Computacional - 2022.2\n",
        "Integrantes:\n",
        "- Álef Ádonis dos Santos Carlos - 120110407\n",
        "- Johansson de Lucena Santos - 120210508\n",
        "- Henrique Lopes Nóbrega - 119110534\n",
        "- Pedro Rafael Pereira Damião - 120210169\n",
        "- Pedro Raimundo dos Santos Neto - 120110121\n",
        "\n",
        "Resources:\n",
        "\n",
        "https://www.kaggle.com/code/ashirahama/simple-keras-cnn-with-mfcc\n",
        "\n",
        "https://github.com/harmanpreet93/audio_classification/blob/master/audio_classification_conv2d_mfcc.ipynb\n",
        "\n",
        "https://colab.research.google.com/drive/1YUwHu-XTF_i3wr_ezN-otrwJv8VBGLnl?usp=sharing#scrollTo=YRh4EKUgHpDa"
      ]
    },
    {
      "cell_type": "markdown",
      "metadata": {
        "id": "E4NfURcrk1KB"
      },
      "source": [
        "## Preparando o dataset\n",
        "\n",
        "\n",
        "Para preparar o dataset, primeiro foi realizada uma seleção de quais espécies de pássaros iríamos realizar nosso treinamento. Foram escolhidas 4 espécies ao todo:\n",
        "\n",
        "- tem-farinha-aí (Stripe-backed Antbird)\n",
        "- garrinchão-de-bico-grande (Long-billed Wren)\n",
        "- joão-de-pau (Rufous-fronted Thornbird)\n",
        "- bem-te-vi  (Great Kiskadee)\n",
        "\n",
        "Os áudios de cada espécie foram obtidos através do site https://xeno-canto.org. Para facilitar o trabalho de obtenção desses dados, foi feito um script para realizar um web scrapping e fazer o download dos áudios. Esse script foi desenvolvido a partir desse tutorial: https://gist.github.com/rhine3/4829bf66381c7aa05c1f656cec4fa040\n"
      ]
    },
    {
      "cell_type": "markdown",
      "metadata": {
        "id": "_GfkOvM6GNcK"
      },
      "source": [
        "# Iniciando o Ambiente\n",
        "\n"
      ]
    },
    {
      "cell_type": "code",
      "execution_count": null,
      "metadata": {
        "id": "TjWvZvWZEF97"
      },
      "outputs": [],
      "source": [
        "import pandas as pd\n",
        "import os\n",
        "import librosa\n",
        "import librosa.display\n",
        "import matplotlib.pyplot as plt\n",
        "from sklearn.preprocessing import normalize\n",
        "import warnings\n",
        "warnings.filterwarnings('ignore')\n",
        "import numpy as np\n",
        "from sklearn.model_selection import train_test_split\n",
        "import tensorflow as tf\n",
        "import random\n",
        "from keras import Sequential\n",
        "from keras.utils import Sequence, to_categorical\n",
        "from sklearn.preprocessing import LabelEncoder\n",
        "from keras import losses, models, optimizers, layers\n",
        "from keras.utils import np_utils\n",
        "from keras.activations import relu, softmax\n",
        "from keras.layers import Dense, Dropout, Input, Convolution2D, BatchNormalization, Activation, MaxPool2D, Flatten\n",
        "from sklearn.metrics import confusion_matrix, classification_report, ConfusionMatrixDisplay\n",
        "from sklearn.utils import shuffle"
      ]
    },
    {
      "cell_type": "code",
      "execution_count": null,
      "metadata": {
        "id": "kcSwgXuHI6zR"
      },
      "outputs": [],
      "source": [
        "random.seed()"
      ]
    },
    {
      "cell_type": "code",
      "execution_count": null,
      "metadata": {
        "colab": {
          "base_uri": "https://localhost:8080/"
        },
        "id": "5xl_aI8juJjx",
        "outputId": "5eed1da3-fbc9-490d-8dda-9e03a61a1799"
      },
      "outputs": [
        {
          "output_type": "stream",
          "name": "stdout",
          "text": [
            "Mounted at /gdrive\n"
          ]
        }
      ],
      "source": [
        "from google.colab import drive\n",
        "drive.mount('/gdrive')"
      ]
    },
    {
      "cell_type": "markdown",
      "metadata": {
        "id": "Ci9j5Mx7_LC8"
      },
      "source": [
        "####Importante\n",
        "\n",
        "Antes de rodar o notebook, se certifique de ter colocado uma cópia da pasta no seu Drive.\n",
        "\n",
        "https://drive.google.com/drive/folders/1DuzdbQ9zl4Er73g4Nu4LL4ZA38hxhLsH?usp=drive_link"
      ]
    },
    {
      "cell_type": "code",
      "execution_count": null,
      "metadata": {
        "colab": {
          "base_uri": "https://localhost:8080/"
        },
        "id": "YjlOMk8f7ChN",
        "outputId": "6fbe3e31-3399-4e2f-c2c8-7adc2cbdab0f"
      },
      "outputs": [
        {
          "output_type": "stream",
          "name": "stdout",
          "text": [
            "Archive:  /gdrive/MyDrive/Classifying_Birds_By_Sound/dataset4-especies.zip\n",
            "   creating: /content/dataset/\n",
            "   creating: /content/dataset/bem-te-vi/\n",
            "  inflating: /content/dataset/bem-te-vi/GreatKiskadee_XC101231.wav.wav.wav  \n",
            "  inflating: /content/dataset/bem-te-vi/GreatKiskadee_XC105212.wav.wav.wav  \n",
            "  inflating: /content/dataset/bem-te-vi/GreatKiskadee_XC115733.wav.wav.wav  \n",
            "  inflating: /content/dataset/bem-te-vi/GreatKiskadee_XC144905.wav.wav.wav  \n",
            "  inflating: /content/dataset/bem-te-vi/GreatKiskadee_XC147341.wav.wav.wav  \n",
            "  inflating: /content/dataset/bem-te-vi/GreatKiskadee_XC165273.wav.wav.wav  \n",
            "  inflating: /content/dataset/bem-te-vi/GreatKiskadee_XC168591.wav.wav.wav  \n",
            "  inflating: /content/dataset/bem-te-vi/GreatKiskadee_XC170757.wav.wav.wav  \n",
            "  inflating: /content/dataset/bem-te-vi/GreatKiskadee_XC173973.wav.wav.wav  \n",
            "  inflating: /content/dataset/bem-te-vi/GreatKiskadee_XC187994.wav.wav.wav  \n",
            "  inflating: /content/dataset/bem-te-vi/GreatKiskadee_XC199144.wav.wav.wav  \n",
            "  inflating: /content/dataset/bem-te-vi/GreatKiskadee_XC203032.wav.wav.wav  \n",
            "  inflating: /content/dataset/bem-te-vi/GreatKiskadee_XC205027.wav.wav.wav  \n",
            "  inflating: /content/dataset/bem-te-vi/GreatKiskadee_XC221551.wav.wav.wav  \n",
            "  inflating: /content/dataset/bem-te-vi/GreatKiskadee_XC228349.wav.wav.wav  \n",
            "  inflating: /content/dataset/bem-te-vi/GreatKiskadee_XC228351.wav.wav.wav  \n",
            "  inflating: /content/dataset/bem-te-vi/GreatKiskadee_XC228356.wav.wav.wav  \n",
            "  inflating: /content/dataset/bem-te-vi/GreatKiskadee_XC228362.wav.wav.wav  \n",
            "  inflating: /content/dataset/bem-te-vi/GreatKiskadee_XC258974.wav.wav.wav  \n",
            "  inflating: /content/dataset/bem-te-vi/GreatKiskadee_XC270494.wav.wav.wav  \n",
            "  inflating: /content/dataset/bem-te-vi/GreatKiskadee_XC272472.wav.wav.wav  \n",
            "  inflating: /content/dataset/bem-te-vi/GreatKiskadee_XC272475.wav.wav.wav  \n",
            "  inflating: /content/dataset/bem-te-vi/GreatKiskadee_XC274236.wav.wav.wav  \n",
            "  inflating: /content/dataset/bem-te-vi/GreatKiskadee_XC274495.wav.wav.wav  \n",
            "  inflating: /content/dataset/bem-te-vi/GreatKiskadee_XC274540.wav.wav.wav  \n",
            "  inflating: /content/dataset/bem-te-vi/GreatKiskadee_XC278632.wav.wav.wav  \n",
            "  inflating: /content/dataset/bem-te-vi/GreatKiskadee_XC298509.wav.wav.wav  \n",
            "  inflating: /content/dataset/bem-te-vi/GreatKiskadee_XC313794.wav.wav.wav  \n",
            "  inflating: /content/dataset/bem-te-vi/GreatKiskadee_XC334513.wav.wav.wav  \n",
            "  inflating: /content/dataset/bem-te-vi/GreatKiskadee_XC343052.wav.wav.wav  \n",
            "  inflating: /content/dataset/bem-te-vi/GreatKiskadee_XC348992.wav.wav.wav  \n",
            "  inflating: /content/dataset/bem-te-vi/GreatKiskadee_XC354876.wav.wav.wav  \n",
            "  inflating: /content/dataset/bem-te-vi/GreatKiskadee_XC362267.wav.wav.wav  \n",
            "  inflating: /content/dataset/bem-te-vi/GreatKiskadee_XC362268.wav.wav.wav  \n",
            "  inflating: /content/dataset/bem-te-vi/GreatKiskadee_XC362270.wav.wav.wav  \n",
            "  inflating: /content/dataset/bem-te-vi/GreatKiskadee_XC362274.wav.wav.wav  \n",
            "  inflating: /content/dataset/bem-te-vi/GreatKiskadee_XC413072.wav.wav.wav  \n",
            "  inflating: /content/dataset/bem-te-vi/GreatKiskadee_XC423518.wav.wav.wav  \n",
            "  inflating: /content/dataset/bem-te-vi/GreatKiskadee_XC42505.wav.wav.wav  \n",
            "  inflating: /content/dataset/bem-te-vi/GreatKiskadee_XC433367.wav.wav.wav  \n",
            "  inflating: /content/dataset/bem-te-vi/GreatKiskadee_XC437010.wav.wav.wav  \n",
            "  inflating: /content/dataset/bem-te-vi/GreatKiskadee_XC437833.wav.wav.wav  \n",
            "  inflating: /content/dataset/bem-te-vi/GreatKiskadee_XC44040.wav.wav.wav  \n",
            "  inflating: /content/dataset/bem-te-vi/GreatKiskadee_XC461614.wav.wav.wav  \n",
            "  inflating: /content/dataset/bem-te-vi/GreatKiskadee_XC46713.wav.wav.wav  \n",
            "  inflating: /content/dataset/bem-te-vi/GreatKiskadee_XC47777.wav.wav.wav  \n",
            "  inflating: /content/dataset/bem-te-vi/GreatKiskadee_XC494788.wav.wav.wav  \n",
            "  inflating: /content/dataset/bem-te-vi/GreatKiskadee_XC499047.wav.wav.wav  \n",
            "  inflating: /content/dataset/bem-te-vi/GreatKiskadee_XC507692.wav.wav.wav  \n",
            "  inflating: /content/dataset/bem-te-vi/GreatKiskadee_XC513558.wav.wav.wav  \n",
            "  inflating: /content/dataset/bem-te-vi/GreatKiskadee_XC518282.wav.wav.wav  \n",
            "  inflating: /content/dataset/bem-te-vi/GreatKiskadee_XC518343.wav.wav.wav  \n",
            "  inflating: /content/dataset/bem-te-vi/GreatKiskadee_XC518544.wav.wav.wav  \n",
            "  inflating: /content/dataset/bem-te-vi/GreatKiskadee_XC519772.wav.wav.wav  \n",
            "  inflating: /content/dataset/bem-te-vi/GreatKiskadee_XC520722.wav.wav.wav  \n",
            "  inflating: /content/dataset/bem-te-vi/GreatKiskadee_XC521789.wav.wav.wav  \n",
            "  inflating: /content/dataset/bem-te-vi/GreatKiskadee_XC524047.wav.wav.wav  \n",
            "  inflating: /content/dataset/bem-te-vi/GreatKiskadee_XC524050.wav.wav.wav  \n",
            "  inflating: /content/dataset/bem-te-vi/GreatKiskadee_XC524052.wav.wav.wav  \n",
            "  inflating: /content/dataset/bem-te-vi/GreatKiskadee_XC524053.wav.wav.wav  \n",
            "  inflating: /content/dataset/bem-te-vi/GreatKiskadee_XC524954.wav.wav.wav  \n",
            "  inflating: /content/dataset/bem-te-vi/GreatKiskadee_XC537857.wav.wav.wav  \n",
            "  inflating: /content/dataset/bem-te-vi/GreatKiskadee_XC539947.wav.wav.wav  \n",
            "  inflating: /content/dataset/bem-te-vi/GreatKiskadee_XC540574.wav.wav.wav  \n",
            "  inflating: /content/dataset/bem-te-vi/GreatKiskadee_XC543429.wav.wav.wav  \n",
            "  inflating: /content/dataset/bem-te-vi/GreatKiskadee_XC543861.wav.wav.wav  \n",
            "  inflating: /content/dataset/bem-te-vi/GreatKiskadee_XC548958.wav.wav.wav  \n",
            "  inflating: /content/dataset/bem-te-vi/GreatKiskadee_XC558365.wav.wav.wav  \n",
            "  inflating: /content/dataset/bem-te-vi/GreatKiskadee_XC559350.wav.wav.wav  \n",
            "  inflating: /content/dataset/bem-te-vi/GreatKiskadee_XC566614.wav.wav.wav  \n",
            "  inflating: /content/dataset/bem-te-vi/GreatKiskadee_XC566616.wav.wav.wav  \n",
            "  inflating: /content/dataset/bem-te-vi/GreatKiskadee_XC579236.wav.wav.wav  \n",
            "  inflating: /content/dataset/bem-te-vi/GreatKiskadee_XC579640.wav.wav.wav  \n",
            "  inflating: /content/dataset/bem-te-vi/GreatKiskadee_XC581493.wav.wav.wav  \n",
            "  inflating: /content/dataset/bem-te-vi/GreatKiskadee_XC586393.wav.wav.wav  \n",
            "  inflating: /content/dataset/bem-te-vi/GreatKiskadee_XC592826.wav.wav.wav  \n",
            "  inflating: /content/dataset/bem-te-vi/GreatKiskadee_XC606543.wav.wav.wav  \n",
            "  inflating: /content/dataset/bem-te-vi/GreatKiskadee_XC607087.wav.wav.wav  \n",
            "  inflating: /content/dataset/bem-te-vi/GreatKiskadee_XC610085.wav.wav.wav  \n",
            "  inflating: /content/dataset/bem-te-vi/GreatKiskadee_XC61213.wav.wav.wav  \n",
            "  inflating: /content/dataset/bem-te-vi/GreatKiskadee_XC621704.wav.wav.wav  \n",
            "  inflating: /content/dataset/bem-te-vi/GreatKiskadee_XC623232.wav.wav.wav  \n",
            "  inflating: /content/dataset/bem-te-vi/GreatKiskadee_XC639593.wav.wav.wav  \n",
            "  inflating: /content/dataset/bem-te-vi/GreatKiskadee_XC645147.wav.wav.wav  \n",
            "  inflating: /content/dataset/bem-te-vi/GreatKiskadee_XC646553.wav.wav.wav  \n",
            "  inflating: /content/dataset/bem-te-vi/GreatKiskadee_XC688663.wav.wav.wav  \n",
            "  inflating: /content/dataset/bem-te-vi/GreatKiskadee_XC706107.wav.wav.wav  \n",
            "  inflating: /content/dataset/bem-te-vi/GreatKiskadee_XC708132.wav.wav.wav  \n",
            "  inflating: /content/dataset/bem-te-vi/GreatKiskadee_XC712338.wav.wav.wav  \n",
            "  inflating: /content/dataset/bem-te-vi/GreatKiskadee_XC719823.wav.wav.wav  \n",
            "  inflating: /content/dataset/bem-te-vi/GreatKiskadee_XC721508.wav.wav.wav  \n",
            "  inflating: /content/dataset/bem-te-vi/GreatKiskadee_XC736417.wav.wav.wav  \n",
            "  inflating: /content/dataset/bem-te-vi/GreatKiskadee_XC742323.wav.wav.wav  \n",
            "  inflating: /content/dataset/bem-te-vi/GreatKiskadee_XC743922.wav.wav.wav  \n",
            "  inflating: /content/dataset/bem-te-vi/GreatKiskadee_XC7606.wav.wav.wav  \n",
            "  inflating: /content/dataset/bem-te-vi/GreatKiskadee_XC763568.wav.wav.wav  \n",
            "  inflating: /content/dataset/bem-te-vi/GreatKiskadee_XC769455.wav.wav.wav  \n",
            "  inflating: /content/dataset/bem-te-vi/GreatKiskadee_XC76954.wav.wav.wav  \n",
            "  inflating: /content/dataset/bem-te-vi/GreatKiskadee_XC7731.wav.wav.wav  \n",
            "  inflating: /content/dataset/bem-te-vi/GreatKiskadee_XC7732.wav.wav.wav  \n",
            "  inflating: /content/dataset/bem-te-vi/GreatKiskadee_XC78181.wav.wav.wav  \n",
            "  inflating: /content/dataset/bem-te-vi/GreatKiskadee_XC796862.wav.wav.wav  \n",
            "  inflating: /content/dataset/bem-te-vi/GreatKiskadee_XC80599.wav.wav.wav  \n",
            "  inflating: /content/dataset/bem-te-vi/GreatKiskadee_XC81863.wav.wav.wav  \n",
            "  inflating: /content/dataset/bem-te-vi/GreatKiskadee_XC93650.wav.wav.wav  \n",
            "   creating: /content/dataset/garrinchão-de-bico-grande/\n",
            "  inflating: /content/dataset/garrinchão-de-bico-grande/Long_XC10238.wav.wav.wav  \n",
            "  inflating: /content/dataset/garrinchão-de-bico-grande/Long_XC105875.wav.wav.wav  \n",
            "  inflating: /content/dataset/garrinchão-de-bico-grande/Long_XC106801.wav.wav.wav  \n",
            "  inflating: /content/dataset/garrinchão-de-bico-grande/Long_XC108953.wav.wav.wav  \n",
            "  inflating: /content/dataset/garrinchão-de-bico-grande/Long_XC113220.wav.wav.wav  \n",
            "  inflating: /content/dataset/garrinchão-de-bico-grande/Long_XC113221.wav.wav.wav  \n",
            "  inflating: /content/dataset/garrinchão-de-bico-grande/Long_XC118294.wav.wav.wav  \n",
            "  inflating: /content/dataset/garrinchão-de-bico-grande/Long_XC11883.wav.wav.wav  \n",
            "  inflating: /content/dataset/garrinchão-de-bico-grande/Long_XC119012.wav.wav.wav  \n",
            "  inflating: /content/dataset/garrinchão-de-bico-grande/Long_XC130861.wav.wav.wav  \n",
            "  inflating: /content/dataset/garrinchão-de-bico-grande/Long_XC131329.wav.wav.wav  \n",
            "  inflating: /content/dataset/garrinchão-de-bico-grande/Long_XC131344.wav.wav.wav  \n",
            "  inflating: /content/dataset/garrinchão-de-bico-grande/Long_XC131402.wav.wav.wav  \n",
            "  inflating: /content/dataset/garrinchão-de-bico-grande/Long_XC13992.wav.wav.wav  \n",
            "  inflating: /content/dataset/garrinchão-de-bico-grande/Long_XC145570.wav.wav.wav  \n",
            "  inflating: /content/dataset/garrinchão-de-bico-grande/Long_XC16830.wav.wav.wav  \n",
            "  inflating: /content/dataset/garrinchão-de-bico-grande/Long_XC172852.wav.wav.wav  \n",
            "  inflating: /content/dataset/garrinchão-de-bico-grande/Long_XC17482.wav.wav.wav  \n",
            "  inflating: /content/dataset/garrinchão-de-bico-grande/Long_XC18928.wav.wav.wav  \n",
            "  inflating: /content/dataset/garrinchão-de-bico-grande/Long_XC196353.wav.wav.wav  \n",
            "  inflating: /content/dataset/garrinchão-de-bico-grande/Long_XC196380.wav.wav.wav  \n",
            "  inflating: /content/dataset/garrinchão-de-bico-grande/Long_XC201994.wav.wav.wav  \n",
            "  inflating: /content/dataset/garrinchão-de-bico-grande/Long_XC206665.wav.wav.wav  \n",
            "  inflating: /content/dataset/garrinchão-de-bico-grande/Long_XC211599.wav.wav.wav  \n",
            "  inflating: /content/dataset/garrinchão-de-bico-grande/Long_XC211601.wav.wav.wav  \n",
            "  inflating: /content/dataset/garrinchão-de-bico-grande/Long_XC211602.wav.wav.wav  \n",
            "  inflating: /content/dataset/garrinchão-de-bico-grande/Long_XC211603.wav.wav.wav  \n",
            "  inflating: /content/dataset/garrinchão-de-bico-grande/Long_XC213412.wav.wav.wav  \n",
            "  inflating: /content/dataset/garrinchão-de-bico-grande/Long_XC21690.wav.wav.wav  \n",
            "  inflating: /content/dataset/garrinchão-de-bico-grande/Long_XC231079.wav.wav.wav  \n",
            "  inflating: /content/dataset/garrinchão-de-bico-grande/Long_XC231082.wav.wav.wav  \n",
            "  inflating: /content/dataset/garrinchão-de-bico-grande/Long_XC231084.wav.wav.wav  \n",
            "  inflating: /content/dataset/garrinchão-de-bico-grande/Long_XC231085.wav.wav.wav  \n",
            "  inflating: /content/dataset/garrinchão-de-bico-grande/Long_XC231089.wav.wav.wav  \n",
            "  inflating: /content/dataset/garrinchão-de-bico-grande/Long_XC231090.wav.wav.wav  \n",
            "  inflating: /content/dataset/garrinchão-de-bico-grande/Long_XC231091.wav.wav.wav  \n",
            "  inflating: /content/dataset/garrinchão-de-bico-grande/Long_XC231092.wav.wav.wav  \n",
            "  inflating: /content/dataset/garrinchão-de-bico-grande/Long_XC231093.wav.wav.wav  \n",
            "  inflating: /content/dataset/garrinchão-de-bico-grande/Long_XC24410.wav.wav.wav  \n",
            "  inflating: /content/dataset/garrinchão-de-bico-grande/Long_XC26727.wav.wav.wav  \n",
            "  inflating: /content/dataset/garrinchão-de-bico-grande/Long_XC274859.wav.wav.wav  \n",
            "  inflating: /content/dataset/garrinchão-de-bico-grande/Long_XC28280.wav.wav.wav  \n",
            "  inflating: /content/dataset/garrinchão-de-bico-grande/Long_XC28281.wav.wav.wav  \n",
            "  inflating: /content/dataset/garrinchão-de-bico-grande/Long_XC284998.wav.wav.wav  \n",
            "  inflating: /content/dataset/garrinchão-de-bico-grande/Long_XC303565.wav.wav.wav  \n",
            "  inflating: /content/dataset/garrinchão-de-bico-grande/Long_XC317648.wav.wav.wav  \n",
            "  inflating: /content/dataset/garrinchão-de-bico-grande/Long_XC326199.wav.wav.wav  \n",
            "  inflating: /content/dataset/garrinchão-de-bico-grande/Long_XC331352.wav.wav.wav  \n",
            "  inflating: /content/dataset/garrinchão-de-bico-grande/Long_XC343070.wav.wav.wav  \n",
            "  inflating: /content/dataset/garrinchão-de-bico-grande/Long_XC35497.wav.wav.wav  \n",
            "  inflating: /content/dataset/garrinchão-de-bico-grande/Long_XC388951.wav.wav.wav  \n",
            "  inflating: /content/dataset/garrinchão-de-bico-grande/Long_XC396179.wav.wav.wav  \n",
            "  inflating: /content/dataset/garrinchão-de-bico-grande/Long_XC41066.wav.wav.wav  \n",
            "  inflating: /content/dataset/garrinchão-de-bico-grande/Long_XC414794.wav.wav.wav  \n",
            "  inflating: /content/dataset/garrinchão-de-bico-grande/Long_XC414795.wav.wav.wav  \n",
            "  inflating: /content/dataset/garrinchão-de-bico-grande/Long_XC426880.wav.wav.wav  \n",
            "  inflating: /content/dataset/garrinchão-de-bico-grande/Long_XC427155.wav.wav.wav  \n",
            "  inflating: /content/dataset/garrinchão-de-bico-grande/Long_XC427157.wav.wav.wav  \n",
            "  inflating: /content/dataset/garrinchão-de-bico-grande/Long_XC427158.wav.wav.wav  \n",
            "  inflating: /content/dataset/garrinchão-de-bico-grande/Long_XC429382.wav.wav.wav  \n",
            "  inflating: /content/dataset/garrinchão-de-bico-grande/Long_XC459253.wav.wav.wav  \n",
            "  inflating: /content/dataset/garrinchão-de-bico-grande/Long_XC472364.wav.wav.wav  \n",
            "  inflating: /content/dataset/garrinchão-de-bico-grande/Long_XC482383.wav.wav.wav  \n",
            "  inflating: /content/dataset/garrinchão-de-bico-grande/Long_XC482384.wav.wav.wav  \n",
            "  inflating: /content/dataset/garrinchão-de-bico-grande/Long_XC482386.wav.wav.wav  \n",
            "  inflating: /content/dataset/garrinchão-de-bico-grande/Long_XC487.wav.wav.wav  \n",
            "  inflating: /content/dataset/garrinchão-de-bico-grande/Long_XC511010.wav.wav.wav  \n",
            "  inflating: /content/dataset/garrinchão-de-bico-grande/Long_XC511011.wav.wav.wav  \n",
            "  inflating: /content/dataset/garrinchão-de-bico-grande/Long_XC556185.wav.wav.wav  \n",
            "  inflating: /content/dataset/garrinchão-de-bico-grande/Long_XC556187.wav.wav.wav  \n",
            "  inflating: /content/dataset/garrinchão-de-bico-grande/Long_XC559440.wav.wav.wav  \n",
            "  inflating: /content/dataset/garrinchão-de-bico-grande/Long_XC562125.wav.wav.wav  \n",
            "  inflating: /content/dataset/garrinchão-de-bico-grande/Long_XC569134.wav.wav.wav  \n",
            "  inflating: /content/dataset/garrinchão-de-bico-grande/Long_XC583277.wav.wav.wav  \n",
            "  inflating: /content/dataset/garrinchão-de-bico-grande/Long_XC5992.wav.wav.wav  \n",
            "  inflating: /content/dataset/garrinchão-de-bico-grande/Long_XC611373.wav.wav.wav  \n",
            "  inflating: /content/dataset/garrinchão-de-bico-grande/Long_XC613213.wav.wav.wav  \n",
            "  inflating: /content/dataset/garrinchão-de-bico-grande/Long_XC6347.wav.wav.wav  \n",
            "  inflating: /content/dataset/garrinchão-de-bico-grande/Long_XC659145.wav.wav.wav  \n",
            "  inflating: /content/dataset/garrinchão-de-bico-grande/Long_XC6602.wav.wav.wav  \n",
            "  inflating: /content/dataset/garrinchão-de-bico-grande/Long_XC661757.wav.wav.wav  \n",
            "  inflating: /content/dataset/garrinchão-de-bico-grande/Long_XC696952.wav.wav.wav  \n",
            "  inflating: /content/dataset/garrinchão-de-bico-grande/Long_XC699407.wav.wav.wav  \n",
            "  inflating: /content/dataset/garrinchão-de-bico-grande/Long_XC713818.wav.wav.wav  \n",
            "  inflating: /content/dataset/garrinchão-de-bico-grande/Long_XC727669.wav.wav.wav  \n",
            "  inflating: /content/dataset/garrinchão-de-bico-grande/Long_XC728452.wav.wav.wav  \n",
            "  inflating: /content/dataset/garrinchão-de-bico-grande/Long_XC742308.wav.wav.wav  \n",
            "  inflating: /content/dataset/garrinchão-de-bico-grande/Long_XC750005.wav.wav.wav  \n",
            "  inflating: /content/dataset/garrinchão-de-bico-grande/Long_XC753586.wav.wav.wav  \n",
            "  inflating: /content/dataset/garrinchão-de-bico-grande/Long_XC753634.wav.wav.wav  \n",
            "  inflating: /content/dataset/garrinchão-de-bico-grande/Long_XC771484.wav.wav.wav  \n",
            "  inflating: /content/dataset/garrinchão-de-bico-grande/Long_XC786314.wav.wav.wav  \n",
            "  inflating: /content/dataset/garrinchão-de-bico-grande/Long_XC786924.wav.wav.wav  \n",
            "  inflating: /content/dataset/garrinchão-de-bico-grande/Long_XC82430.wav.wav.wav  \n",
            "  inflating: /content/dataset/garrinchão-de-bico-grande/Long_XC82433.wav.wav.wav  \n",
            "  inflating: /content/dataset/garrinchão-de-bico-grande/Long_XC96507.wav.wav.wav  \n",
            "  inflating: /content/dataset/garrinchão-de-bico-grande/Long_XC96515.wav.wav.wav  \n",
            "  inflating: /content/dataset/garrinchão-de-bico-grande/Long_XC96518.wav.wav.wav  \n",
            "  inflating: /content/dataset/garrinchão-de-bico-grande/Long_XC96519.wav.wav.wav  \n",
            "  inflating: /content/dataset/garrinchão-de-bico-grande/Long_XC96520.wav.wav.wav  \n",
            "  inflating: /content/dataset/garrinchão-de-bico-grande/Long_XC96522.wav.wav.wav  \n",
            "  inflating: /content/dataset/garrinchão-de-bico-grande/Long_XC96528.wav.wav.wav  \n",
            "  inflating: /content/dataset/garrinchão-de-bico-grande/Long_XC98618.wav.wav.wav  \n",
            "  inflating: /content/dataset/garrinchão-de-bico-grande/Long_XC98620.wav.wav.wav  \n",
            "  inflating: /content/dataset/garrinchão-de-bico-grande/Long_XC98621.wav.wav.wav  \n",
            "   creating: /content/dataset/joão-de-pau/\n",
            "  inflating: /content/dataset/joão-de-pau/Rufous_XC114242.wav.wav.wav  \n",
            "  inflating: /content/dataset/joão-de-pau/Rufous_XC118699.wav.wav.wav  \n",
            "  inflating: /content/dataset/joão-de-pau/Rufous_XC127174.wav.wav.wav  \n",
            "  inflating: /content/dataset/joão-de-pau/Rufous_XC13199.wav.wav.wav  \n",
            "  inflating: /content/dataset/joão-de-pau/Rufous_XC145506.wav.wav.wav  \n",
            "  inflating: /content/dataset/joão-de-pau/Rufous_XC146472.wav.wav.wav  \n",
            "  inflating: /content/dataset/joão-de-pau/Rufous_XC155479.wav.wav.wav  \n",
            "  inflating: /content/dataset/joão-de-pau/Rufous_XC169872.wav.wav.wav  \n",
            "  inflating: /content/dataset/joão-de-pau/Rufous_XC17079.wav.wav.wav  \n",
            "  inflating: /content/dataset/joão-de-pau/Rufous_XC17080.wav.wav.wav  \n",
            "  inflating: /content/dataset/joão-de-pau/Rufous_XC173345.wav.wav.wav  \n",
            "  inflating: /content/dataset/joão-de-pau/Rufous_XC178084.wav.wav.wav  \n",
            "  inflating: /content/dataset/joão-de-pau/Rufous_XC181069.wav.wav.wav  \n",
            "  inflating: /content/dataset/joão-de-pau/Rufous_XC20044.wav.wav.wav  \n",
            "  inflating: /content/dataset/joão-de-pau/Rufous_XC209780.wav.wav.wav  \n",
            "  inflating: /content/dataset/joão-de-pau/Rufous_XC227518.wav.wav.wav  \n",
            "  inflating: /content/dataset/joão-de-pau/Rufous_XC227519.wav.wav.wav  \n",
            "  inflating: /content/dataset/joão-de-pau/Rufous_XC227520.wav.wav.wav  \n",
            "  inflating: /content/dataset/joão-de-pau/Rufous_XC227521.wav.wav.wav  \n",
            "  inflating: /content/dataset/joão-de-pau/Rufous_XC227522.wav.wav.wav  \n",
            "  inflating: /content/dataset/joão-de-pau/Rufous_XC227523.wav.wav.wav  \n",
            "  inflating: /content/dataset/joão-de-pau/Rufous_XC227524.wav.wav.wav  \n",
            "  inflating: /content/dataset/joão-de-pau/Rufous_XC227525.wav.wav.wav  \n",
            "  inflating: /content/dataset/joão-de-pau/Rufous_XC227526.wav.wav.wav  \n",
            "  inflating: /content/dataset/joão-de-pau/Rufous_XC227527.wav.wav.wav  \n",
            "  inflating: /content/dataset/joão-de-pau/Rufous_XC227528.wav.wav.wav  \n",
            "  inflating: /content/dataset/joão-de-pau/Rufous_XC2364.wav.wav.wav  \n",
            "  inflating: /content/dataset/joão-de-pau/Rufous_XC2365.wav.wav.wav  \n",
            "  inflating: /content/dataset/joão-de-pau/Rufous_XC2366.wav.wav.wav  \n",
            "  inflating: /content/dataset/joão-de-pau/Rufous_XC250428.wav.wav.wav  \n",
            "  inflating: /content/dataset/joão-de-pau/Rufous_XC250429.wav.wav.wav  \n",
            "  inflating: /content/dataset/joão-de-pau/Rufous_XC250430.wav.wav.wav  \n",
            "  inflating: /content/dataset/joão-de-pau/Rufous_XC251316.wav.wav.wav  \n",
            "  inflating: /content/dataset/joão-de-pau/Rufous_XC256713.wav.wav.wav  \n",
            "  inflating: /content/dataset/joão-de-pau/Rufous_XC256714.wav.wav.wav  \n",
            "  inflating: /content/dataset/joão-de-pau/Rufous_XC258165.wav.wav.wav  \n",
            "  inflating: /content/dataset/joão-de-pau/Rufous_XC258166.wav.wav.wav  \n",
            "  inflating: /content/dataset/joão-de-pau/Rufous_XC264536.wav.wav.wav  \n",
            "  inflating: /content/dataset/joão-de-pau/Rufous_XC264537.wav.wav.wav  \n",
            "  inflating: /content/dataset/joão-de-pau/Rufous_XC276344.wav.wav.wav  \n",
            "  inflating: /content/dataset/joão-de-pau/Rufous_XC277463.wav.wav.wav  \n",
            "  inflating: /content/dataset/joão-de-pau/Rufous_XC29256.wav.wav.wav  \n",
            "  inflating: /content/dataset/joão-de-pau/Rufous_XC29257.wav.wav.wav  \n",
            "  inflating: /content/dataset/joão-de-pau/Rufous_XC29258.wav.wav.wav  \n",
            "  inflating: /content/dataset/joão-de-pau/Rufous_XC29259.wav.wav.wav  \n",
            "  inflating: /content/dataset/joão-de-pau/Rufous_XC296855.wav.wav.wav  \n",
            "  inflating: /content/dataset/joão-de-pau/Rufous_XC304381.wav.wav.wav  \n",
            "  inflating: /content/dataset/joão-de-pau/Rufous_XC320679.wav.wav.wav  \n",
            "  inflating: /content/dataset/joão-de-pau/Rufous_XC325586.wav.wav.wav  \n",
            "  inflating: /content/dataset/joão-de-pau/Rufous_XC33495.wav.wav.wav  \n",
            "  inflating: /content/dataset/joão-de-pau/Rufous_XC341442.wav.wav.wav  \n",
            "  inflating: /content/dataset/joão-de-pau/Rufous_XC34543.wav.wav.wav  \n",
            "  inflating: /content/dataset/joão-de-pau/Rufous_XC350960.wav.wav.wav  \n",
            "  inflating: /content/dataset/joão-de-pau/Rufous_XC415459.wav.wav.wav  \n",
            "  inflating: /content/dataset/joão-de-pau/Rufous_XC419249.wav.wav.wav  \n",
            "  inflating: /content/dataset/joão-de-pau/Rufous_XC419251.wav.wav.wav  \n",
            "  inflating: /content/dataset/joão-de-pau/Rufous_XC423028.wav.wav.wav  \n",
            "  inflating: /content/dataset/joão-de-pau/Rufous_XC4277.wav.wav.wav  \n",
            "  inflating: /content/dataset/joão-de-pau/Rufous_XC427754.wav.wav.wav  \n",
            "  inflating: /content/dataset/joão-de-pau/Rufous_XC427755.wav.wav.wav  \n",
            "  inflating: /content/dataset/joão-de-pau/Rufous_XC427756.wav.wav.wav  \n",
            "  inflating: /content/dataset/joão-de-pau/Rufous_XC427757.wav.wav.wav  \n",
            "  inflating: /content/dataset/joão-de-pau/Rufous_XC439198.wav.wav.wav  \n",
            "  inflating: /content/dataset/joão-de-pau/Rufous_XC439755.wav.wav.wav  \n",
            "  inflating: /content/dataset/joão-de-pau/Rufous_XC446776.wav.wav.wav  \n",
            "  inflating: /content/dataset/joão-de-pau/Rufous_XC44756.wav.wav.wav  \n",
            "  inflating: /content/dataset/joão-de-pau/Rufous_XC4566.wav.wav.wav  \n",
            "  inflating: /content/dataset/joão-de-pau/Rufous_XC471119.wav.wav.wav  \n",
            "  inflating: /content/dataset/joão-de-pau/Rufous_XC47768.wav.wav.wav  \n",
            "  inflating: /content/dataset/joão-de-pau/Rufous_XC48321.wav.wav.wav  \n",
            "  inflating: /content/dataset/joão-de-pau/Rufous_XC49924.wav.wav.wav  \n",
            "  inflating: /content/dataset/joão-de-pau/Rufous_XC49971.wav.wav.wav  \n",
            "  inflating: /content/dataset/joão-de-pau/Rufous_XC49972.wav.wav.wav  \n",
            "  inflating: /content/dataset/joão-de-pau/Rufous_XC5123.wav.wav.wav  \n",
            "  inflating: /content/dataset/joão-de-pau/Rufous_XC521004.wav.wav.wav  \n",
            "  inflating: /content/dataset/joão-de-pau/Rufous_XC52170.wav.wav.wav  \n",
            "  inflating: /content/dataset/joão-de-pau/Rufous_XC521964.wav.wav.wav  \n",
            "  inflating: /content/dataset/joão-de-pau/Rufous_XC543064.wav.wav.wav  \n",
            "  inflating: /content/dataset/joão-de-pau/Rufous_XC56320.wav.wav.wav  \n",
            "  inflating: /content/dataset/joão-de-pau/Rufous_XC587498.wav.wav.wav  \n",
            "  inflating: /content/dataset/joão-de-pau/Rufous_XC587499.wav.wav.wav  \n",
            "  inflating: /content/dataset/joão-de-pau/Rufous_XC587500.wav.wav.wav  \n",
            "  inflating: /content/dataset/joão-de-pau/Rufous_XC658635.wav.wav.wav  \n",
            "  inflating: /content/dataset/joão-de-pau/Rufous_XC661066.wav.wav.wav  \n",
            "  inflating: /content/dataset/joão-de-pau/Rufous_XC66128.wav.wav.wav  \n",
            "  inflating: /content/dataset/joão-de-pau/Rufous_XC6750.wav.wav.wav  \n",
            "  inflating: /content/dataset/joão-de-pau/Rufous_XC6781.wav.wav.wav  \n",
            "  inflating: /content/dataset/joão-de-pau/Rufous_XC697463.wav.wav.wav  \n",
            "  inflating: /content/dataset/joão-de-pau/Rufous_XC711636.wav.wav.wav  \n",
            "  inflating: /content/dataset/joão-de-pau/Rufous_XC720693.wav.wav.wav  \n",
            "  inflating: /content/dataset/joão-de-pau/Rufous_XC724872.wav.wav.wav  \n",
            "  inflating: /content/dataset/joão-de-pau/Rufous_XC728411.wav.wav.wav  \n",
            "  inflating: /content/dataset/joão-de-pau/Rufous_XC732173.wav.wav.wav  \n",
            "  inflating: /content/dataset/joão-de-pau/Rufous_XC7451.wav.wav.wav  \n",
            "  inflating: /content/dataset/joão-de-pau/Rufous_XC752774.wav.wav.wav  \n",
            "  inflating: /content/dataset/joão-de-pau/Rufous_XC760314.wav.wav.wav  \n",
            "  inflating: /content/dataset/joão-de-pau/Rufous_XC786340.wav.wav.wav  \n",
            "  inflating: /content/dataset/joão-de-pau/Rufous_XC797235.wav.wav.wav  \n",
            "  inflating: /content/dataset/joão-de-pau/Rufous_XC797236.wav.wav.wav  \n",
            "  inflating: /content/dataset/joão-de-pau/Rufous_XC80800.wav.wav.wav  \n",
            "  inflating: /content/dataset/joão-de-pau/Rufous_XC80845.wav.wav.wav  \n",
            "  inflating: /content/dataset/joão-de-pau/Rufous_XC8553.wav.wav.wav  \n",
            "  inflating: /content/dataset/joão-de-pau/Rufous_XC90334.wav.wav.wav  \n",
            "  inflating: /content/dataset/joão-de-pau/Rufous_XC93519.wav.wav.wav  \n",
            "   creating: /content/dataset/tem-farinha-ai/\n",
            "  inflating: /content/dataset/tem-farinha-ai/Stripe_XC114059.wav.wav.wav  \n",
            "  inflating: /content/dataset/tem-farinha-ai/Stripe_XC114972.wav.wav.wav  \n",
            "  inflating: /content/dataset/tem-farinha-ai/Stripe_XC118691.wav.wav.wav  \n",
            "  inflating: /content/dataset/tem-farinha-ai/Stripe_XC119006.wav.wav.wav  \n",
            "  inflating: /content/dataset/tem-farinha-ai/Stripe_XC122599.wav.wav.wav  \n",
            "  inflating: /content/dataset/tem-farinha-ai/Stripe_XC145060.wav.wav.wav  \n",
            "  inflating: /content/dataset/tem-farinha-ai/Stripe_XC150587.wav.wav.wav  \n",
            "  inflating: /content/dataset/tem-farinha-ai/Stripe_XC153580.wav.wav.wav  \n",
            "  inflating: /content/dataset/tem-farinha-ai/Stripe_XC153581.wav.wav.wav  \n",
            "  inflating: /content/dataset/tem-farinha-ai/Stripe_XC15646.wav.wav.wav  \n",
            "  inflating: /content/dataset/tem-farinha-ai/Stripe_XC167118.wav.wav.wav  \n",
            "  inflating: /content/dataset/tem-farinha-ai/Stripe_XC16827.wav.wav.wav  \n",
            "  inflating: /content/dataset/tem-farinha-ai/Stripe_XC169886.wav.wav.wav  \n",
            "  inflating: /content/dataset/tem-farinha-ai/Stripe_XC193799.wav.wav.wav  \n",
            "  inflating: /content/dataset/tem-farinha-ai/Stripe_XC200344.wav.wav.wav  \n",
            "  inflating: /content/dataset/tem-farinha-ai/Stripe_XC215644.wav.wav.wav  \n",
            "  inflating: /content/dataset/tem-farinha-ai/Stripe_XC226422.wav.wav.wav  \n",
            "  inflating: /content/dataset/tem-farinha-ai/Stripe_XC226423.wav.wav.wav  \n",
            "  inflating: /content/dataset/tem-farinha-ai/Stripe_XC226424.wav.wav.wav  \n",
            "  inflating: /content/dataset/tem-farinha-ai/Stripe_XC226425.wav.wav.wav  \n",
            "  inflating: /content/dataset/tem-farinha-ai/Stripe_XC226426.wav.wav.wav  \n",
            "  inflating: /content/dataset/tem-farinha-ai/Stripe_XC226427.wav.wav.wav  \n",
            "  inflating: /content/dataset/tem-farinha-ai/Stripe_XC226428.wav.wav.wav  \n",
            "  inflating: /content/dataset/tem-farinha-ai/Stripe_XC226429.wav.wav.wav  \n",
            "  inflating: /content/dataset/tem-farinha-ai/Stripe_XC226430.wav.wav.wav  \n",
            "  inflating: /content/dataset/tem-farinha-ai/Stripe_XC235645.wav.wav.wav  \n",
            "  inflating: /content/dataset/tem-farinha-ai/Stripe_XC235674.wav.wav.wav  \n",
            "  inflating: /content/dataset/tem-farinha-ai/Stripe_XC235873.wav.wav.wav  \n",
            "  inflating: /content/dataset/tem-farinha-ai/Stripe_XC235876.wav.wav.wav  \n",
            "  inflating: /content/dataset/tem-farinha-ai/Stripe_XC235879.wav.wav.wav  \n",
            "  inflating: /content/dataset/tem-farinha-ai/Stripe_XC235893.wav.wav.wav  \n",
            "  inflating: /content/dataset/tem-farinha-ai/Stripe_XC251848.wav.wav.wav  \n",
            "  inflating: /content/dataset/tem-farinha-ai/Stripe_XC2618.wav.wav.wav  \n",
            "  inflating: /content/dataset/tem-farinha-ai/Stripe_XC273227.wav.wav.wav  \n",
            "  inflating: /content/dataset/tem-farinha-ai/Stripe_XC273228.wav.wav.wav  \n",
            "  inflating: /content/dataset/tem-farinha-ai/Stripe_XC273229.wav.wav.wav  \n",
            "  inflating: /content/dataset/tem-farinha-ai/Stripe_XC279035.wav.wav.wav  \n",
            "  inflating: /content/dataset/tem-farinha-ai/Stripe_XC303744.wav.wav.wav  \n",
            "  inflating: /content/dataset/tem-farinha-ai/Stripe_XC320807.wav.wav.wav  \n",
            "  inflating: /content/dataset/tem-farinha-ai/Stripe_XC339542.wav.wav.wav  \n",
            "  inflating: /content/dataset/tem-farinha-ai/Stripe_XC339543.wav.wav.wav  \n",
            "  inflating: /content/dataset/tem-farinha-ai/Stripe_XC34526.wav.wav.wav  \n",
            "  inflating: /content/dataset/tem-farinha-ai/Stripe_XC355713.wav.wav.wav  \n",
            "  inflating: /content/dataset/tem-farinha-ai/Stripe_XC364813.wav.wav.wav  \n",
            "  inflating: /content/dataset/tem-farinha-ai/Stripe_XC37337.wav.wav.wav  \n",
            "  inflating: /content/dataset/tem-farinha-ai/Stripe_XC378439.wav.wav.wav  \n",
            "  inflating: /content/dataset/tem-farinha-ai/Stripe_XC388588.wav.wav.wav  \n",
            "  inflating: /content/dataset/tem-farinha-ai/Stripe_XC391372.wav.wav.wav  \n",
            "  inflating: /content/dataset/tem-farinha-ai/Stripe_XC415014.wav.wav.wav  \n",
            "  inflating: /content/dataset/tem-farinha-ai/Stripe_XC427682.wav.wav.wav  \n",
            "  inflating: /content/dataset/tem-farinha-ai/Stripe_XC427684.wav.wav.wav  \n",
            "  inflating: /content/dataset/tem-farinha-ai/Stripe_XC437590.wav.wav.wav  \n",
            "  inflating: /content/dataset/tem-farinha-ai/Stripe_XC444531.wav.wav.wav  \n",
            "  inflating: /content/dataset/tem-farinha-ai/Stripe_XC451879.wav.wav.wav  \n",
            "  inflating: /content/dataset/tem-farinha-ai/Stripe_XC451880.wav.wav.wav  \n",
            "  inflating: /content/dataset/tem-farinha-ai/Stripe_XC474720.wav.wav.wav  \n",
            "  inflating: /content/dataset/tem-farinha-ai/Stripe_XC474847.wav.wav.wav  \n",
            "  inflating: /content/dataset/tem-farinha-ai/Stripe_XC474986.wav.wav.wav  \n",
            "  inflating: /content/dataset/tem-farinha-ai/Stripe_XC474991.wav.wav.wav  \n",
            "  inflating: /content/dataset/tem-farinha-ai/Stripe_XC488905.wav.wav.wav  \n",
            "  inflating: /content/dataset/tem-farinha-ai/Stripe_XC497417.wav.wav.wav  \n",
            "  inflating: /content/dataset/tem-farinha-ai/Stripe_XC50038.wav.wav.wav  \n",
            "  inflating: /content/dataset/tem-farinha-ai/Stripe_XC50039.wav.wav.wav  \n",
            "  inflating: /content/dataset/tem-farinha-ai/Stripe_XC50040.wav.wav.wav  \n",
            "  inflating: /content/dataset/tem-farinha-ai/Stripe_XC50493.wav.wav.wav  \n",
            "  inflating: /content/dataset/tem-farinha-ai/Stripe_XC50494.wav.wav.wav  \n",
            "  inflating: /content/dataset/tem-farinha-ai/Stripe_XC527367.wav.wav.wav  \n",
            "  inflating: /content/dataset/tem-farinha-ai/Stripe_XC530568.wav.wav.wav  \n",
            "  inflating: /content/dataset/tem-farinha-ai/Stripe_XC5518.wav.wav.wav  \n",
            "  inflating: /content/dataset/tem-farinha-ai/Stripe_XC5520.wav.wav.wav  \n",
            "  inflating: /content/dataset/tem-farinha-ai/Stripe_XC582991.wav.wav.wav  \n",
            "  inflating: /content/dataset/tem-farinha-ai/Stripe_XC60254.wav.wav.wav  \n",
            "  inflating: /content/dataset/tem-farinha-ai/Stripe_XC612209.wav.wav.wav  \n",
            "  inflating: /content/dataset/tem-farinha-ai/Stripe_XC663423.wav.wav.wav  \n",
            "  inflating: /content/dataset/tem-farinha-ai/Stripe_XC687714.wav.wav.wav  \n",
            "  inflating: /content/dataset/tem-farinha-ai/Stripe_XC687726.wav.wav.wav  \n",
            "  inflating: /content/dataset/tem-farinha-ai/Stripe_XC687727.wav.wav.wav  \n",
            "  inflating: /content/dataset/tem-farinha-ai/Stripe_XC687753.wav.wav.wav  \n",
            "  inflating: /content/dataset/tem-farinha-ai/Stripe_XC687767.wav.wav.wav  \n",
            "  inflating: /content/dataset/tem-farinha-ai/Stripe_XC687788.wav.wav.wav  \n",
            "  inflating: /content/dataset/tem-farinha-ai/Stripe_XC702064.wav.wav.wav  \n",
            "  inflating: /content/dataset/tem-farinha-ai/Stripe_XC707199.wav.wav.wav  \n",
            "  inflating: /content/dataset/tem-farinha-ai/Stripe_XC707201.wav.wav.wav  \n",
            "  inflating: /content/dataset/tem-farinha-ai/Stripe_XC712473.wav.wav.wav  \n",
            "  inflating: /content/dataset/tem-farinha-ai/Stripe_XC7156.wav.wav.wav  \n",
            "  inflating: /content/dataset/tem-farinha-ai/Stripe_XC728416.wav.wav.wav  \n",
            "  inflating: /content/dataset/tem-farinha-ai/Stripe_XC728417.wav.wav.wav  \n",
            "  inflating: /content/dataset/tem-farinha-ai/Stripe_XC728418.wav.wav.wav  \n",
            "  inflating: /content/dataset/tem-farinha-ai/Stripe_XC728419.wav.wav.wav  \n",
            "  inflating: /content/dataset/tem-farinha-ai/Stripe_XC728420.wav.wav.wav  \n",
            "  inflating: /content/dataset/tem-farinha-ai/Stripe_XC728421.wav.wav.wav  \n",
            "  inflating: /content/dataset/tem-farinha-ai/Stripe_XC732114.wav.wav.wav  \n",
            "  inflating: /content/dataset/tem-farinha-ai/Stripe_XC732141.wav.wav.wav  \n",
            "  inflating: /content/dataset/tem-farinha-ai/Stripe_XC752789.wav.wav.wav  \n",
            "  inflating: /content/dataset/tem-farinha-ai/Stripe_XC760666.wav.wav.wav  \n",
            "  inflating: /content/dataset/tem-farinha-ai/Stripe_XC786938.wav.wav.wav  \n",
            "  inflating: /content/dataset/tem-farinha-ai/Stripe_XC799171.wav.wav.wav  \n",
            "  inflating: /content/dataset/tem-farinha-ai/Stripe_XC80252.wav.wav.wav  \n",
            "  inflating: /content/dataset/tem-farinha-ai/Stripe_XC80253.wav.wav.wav  \n",
            "  inflating: /content/dataset/tem-farinha-ai/Stripe_XC80275.wav.wav.wav  \n",
            "  inflating: /content/dataset/tem-farinha-ai/Stripe_XC83823.wav.wav.wav  \n",
            "  inflating: /content/dataset/tem-farinha-ai/Stripe_XC8981.wav.wav.wav  \n",
            "  inflating: /content/dataset/tem-farinha-ai/Stripe_XC98507.wav.wav.wav  \n",
            "  inflating: /content/dataset/tem-farinha-ai/Stripe_XC98508.wav.wav.wav  \n",
            "  inflating: /content/dataset/tem-farinha-ai/Stripe_XC98509.wav.wav.wav  \n"
          ]
        }
      ],
      "source": [
        "!unzip /gdrive/MyDrive/Classifying_Birds_By_Sound/dataset4-especies.zip -d /content"
      ]
    },
    {
      "cell_type": "markdown",
      "metadata": {
        "id": "ziA5XC0tGWaI"
      },
      "source": [
        "---"
      ]
    },
    {
      "cell_type": "markdown",
      "metadata": {
        "id": "7vpUUZc0GDn4"
      },
      "source": [
        "# Pré-Processando o Dataset de Áudio\n",
        "\n"
      ]
    },
    {
      "cell_type": "markdown",
      "metadata": {
        "id": "saaXZDHlUfQf"
      },
      "source": [
        "# Extraíndo as Características do Áudio\n",
        "\n",
        "Utilizamos o [Mel Frequency Cepstrum](https://en.wikipedia.org/wiki/Mel-frequency_cepstrum) como principal característica extraída do nosso modelo e o qual usamos para treinar nosso modelo."
      ]
    },
    {
      "cell_type": "code",
      "execution_count": null,
      "metadata": {
        "id": "sFZVdmhYSazE"
      },
      "outputs": [],
      "source": [
        "def generate_feature(audio_y, sr, n_mfcc):\n",
        "    tamanho_segmento = 0.02  # Por exemplo, 0.1 segundos\n",
        "\n",
        "    # Calcular o hop_length necessário para obter o número de segmentos desejado\n",
        "    hop_length = int(tamanho_segmento * sr)\n",
        "    mffc_feature = librosa.feature.mfcc(y=audio_y, sr=sr, n_mfcc=n_mfcc,hop_length=hop_length)\n",
        "    mfcc_features_resized = np.resize(mffc_feature, (80, 1757)) #baseado na média\n",
        "    return mfcc_features_resized"
      ]
    },
    {
      "cell_type": "code",
      "execution_count": null,
      "metadata": {
        "id": "n5krirBIOCGX"
      },
      "outputs": [],
      "source": [
        "def process_audio(file_path):\n",
        "  \"\"\"\n",
        "  Retornamos, a partir do arquivo de áudio, o seu MFCC e classe (label) em uma tupla.\n",
        "  \"\"\"\n",
        "\n",
        "  n_mfcc = 80\n",
        "\n",
        "  if not os.path.isfile(file_path):\n",
        "      return None, None\n",
        "\n",
        "  # Usamos o nome do diretório no qual o arquivo está para \"labelizar\" o arquivo\n",
        "  classe = file_path.split(\"/\")[-2]\n",
        "\n",
        "  #extraindo a duração de cada áudio (duration)\n",
        "  samples,sr = librosa.load(file_path,sr=None, mono=True, offset=0.0, duration=10)\n",
        "  duration= np.floor(len(samples)/sr)\n",
        "\n",
        "  if duration < 5:\n",
        "      return None, None\n",
        "\n",
        "\n",
        "  x = generate_feature(samples, sr, n_mfcc)\n",
        "\n",
        "  return x, classe"
      ]
    },
    {
      "cell_type": "code",
      "execution_count": null,
      "metadata": {
        "id": "IzV21Y8VcmAO"
      },
      "outputs": [],
      "source": [
        "import concurrent.futures\n",
        "\n",
        "dir_father = '/content/dataset'\n",
        "subdirectories = os.listdir(dir_father)\n",
        "\n",
        "classes_dict = dict()\n",
        "class_counter = 0\n",
        "file_path_list = []\n",
        "# Navegar por cada subdiretório do dataset, classificando o áudio em classes (Validação)\n",
        "for subdir in subdirectories:\n",
        "    dir_path = os.path.join(dir_father, subdir)\n",
        "    for file_ in os.listdir(dir_path):\n",
        "        file_path = os.path.join(dir_path, file_)\n",
        "        file_path_list.append(file_path)\n",
        "\n",
        "\n",
        "    classes_dict[subdir] = class_counter\n",
        "    class_counter += 1\n",
        "\n",
        "results = []\n",
        "with concurrent.futures.ThreadPoolExecutor() as executor:\n",
        "    # Envia as a tarefas para o executor\n",
        "    futures = [executor.submit(process_audio, audio_path) for audio_path in file_path_list]\n",
        "\n",
        "    # Recuperar os Resultados\n",
        "    results = [future.result() for future in concurrent.futures.as_completed(futures)]\n",
        "\n",
        "\n",
        "bird_sounds = []\n",
        "labels = []\n",
        "for result in results:\n",
        "    if result[0] is None or result[1] is None:\n",
        "        continue\n",
        "    bird_sounds.append(result[0])\n",
        "    labels.append(classes_dict[result[1]])\n",
        "\n",
        "# Converte o array bird_sounds para um numpy array\n",
        "bird_sounds = np.array(bird_sounds)"
      ]
    },
    {
      "cell_type": "markdown",
      "metadata": {
        "id": "uDt1LXFMboHi"
      },
      "source": [
        "# Criação das \"Hot Labels\""
      ]
    },
    {
      "cell_type": "code",
      "execution_count": null,
      "metadata": {
        "id": "OiOYIjlvzjyi"
      },
      "outputs": [],
      "source": [
        "Y_hot_labels = np_utils.to_categorical(np.array(labels), dtype='uint8')"
      ]
    },
    {
      "cell_type": "markdown",
      "metadata": {
        "id": "LJcHeZ23ifJE"
      },
      "source": [
        "## Separando o dataset de Treino e o dataset de Teste\n",
        "\n",
        "Não é necessário reformatar os dados de treino pois já estão formatados"
      ]
    },
    {
      "cell_type": "code",
      "execution_count": null,
      "metadata": {
        "id": "UxHz1doY0Lkb"
      },
      "outputs": [],
      "source": [
        "x,y = shuffle(bird_sounds ,Y_hot_labels, random_state=2)"
      ]
    },
    {
      "cell_type": "code",
      "execution_count": null,
      "metadata": {
        "id": "CJW0u3DoiI0s"
      },
      "outputs": [],
      "source": [
        "# Adquerindo os valores X_train, X_test, y_train e y_test que serão usados no modelo\n",
        "X_train, X_test, y_train, y_test = train_test_split(x, y, test_size= 0.2, random_state=True)"
      ]
    },
    {
      "cell_type": "markdown",
      "metadata": {
        "id": "JxrKSGDHbvXR"
      },
      "source": [
        "# Criando o Modelo"
      ]
    },
    {
      "cell_type": "code",
      "execution_count": null,
      "metadata": {
        "id": "6LVxcktbbzkC"
      },
      "outputs": [],
      "source": [
        "def create_conv_model(classes_len, dimensions=(80, 1757), learning_rate=0.001):\n",
        "\n",
        "    nclass = classes_len\n",
        "\n",
        "    model = Sequential()\n",
        "    model.add(Input(shape=(dimensions[0], dimensions[1],1)))\n",
        "    \"\"\"\n",
        "    Em resumo, essa função aplica uma camada de convolução bidimensional na entrada inp.\n",
        "    Ela utiliza 32 filtros de convolução, cada um com um kernel de tamanho 4x4.\n",
        "    O preenchimento \"same\" é usado para garantir que a saída tenha o mesmo tamanho da entrada.\n",
        "    \"\"\"\n",
        "    model.add(Convolution2D(32, (4,4), padding=\"same\"))\n",
        "    model.add(BatchNormalization())\n",
        "    model.add(Activation(\"relu\"))\n",
        "    model.add(MaxPool2D())\n",
        "\n",
        "    model.add(Convolution2D(64, (4,10), padding=\"same\"))\n",
        "    model.add(BatchNormalization())\n",
        "    model.add(Activation(\"relu\"))\n",
        "    model.add(MaxPool2D())\n",
        "\n",
        "    model.add(Convolution2D(64, (4,10), padding=\"same\"))\n",
        "    model.add(BatchNormalization())\n",
        "    model.add(Activation(\"relu\"))\n",
        "    model.add(MaxPool2D())\n",
        "\n",
        "    model.add(Flatten())\n",
        "    model.add(Dense(64))\n",
        "    model.add(BatchNormalization())\n",
        "    model.add(Activation(\"relu\"))\n",
        "    model.add(Dense(nclass, activation=softmax))\n",
        "\n",
        "    opt = optimizers.Adam(learning_rate=learning_rate)\n",
        "\n",
        "    model.compile(optimizer=opt, loss=losses.categorical_crossentropy, metrics=['acc'])\n",
        "    return model"
      ]
    },
    {
      "cell_type": "code",
      "execution_count": null,
      "metadata": {
        "colab": {
          "base_uri": "https://localhost:8080/"
        },
        "id": "PZ401RJmqMx_",
        "outputId": "f007a119-1128-4062-b7e2-b954ca8f45fc"
      },
      "outputs": [
        {
          "output_type": "stream",
          "name": "stdout",
          "text": [
            "Model: \"sequential\"\n",
            "_________________________________________________________________\n",
            " Layer (type)                Output Shape              Param #   \n",
            "=================================================================\n",
            " conv2d (Conv2D)             (None, 80, 1757, 32)      544       \n",
            "                                                                 \n",
            " batch_normalization (BatchN  (None, 80, 1757, 32)     128       \n",
            " ormalization)                                                   \n",
            "                                                                 \n",
            " activation (Activation)     (None, 80, 1757, 32)      0         \n",
            "                                                                 \n",
            " max_pooling2d (MaxPooling2D  (None, 40, 878, 32)      0         \n",
            " )                                                               \n",
            "                                                                 \n",
            " conv2d_1 (Conv2D)           (None, 40, 878, 64)       81984     \n",
            "                                                                 \n",
            " batch_normalization_1 (Batc  (None, 40, 878, 64)      256       \n",
            " hNormalization)                                                 \n",
            "                                                                 \n",
            " activation_1 (Activation)   (None, 40, 878, 64)       0         \n",
            "                                                                 \n",
            " max_pooling2d_1 (MaxPooling  (None, 20, 439, 64)      0         \n",
            " 2D)                                                             \n",
            "                                                                 \n",
            " conv2d_2 (Conv2D)           (None, 20, 439, 64)       163904    \n",
            "                                                                 \n",
            " batch_normalization_2 (Batc  (None, 20, 439, 64)      256       \n",
            " hNormalization)                                                 \n",
            "                                                                 \n",
            " activation_2 (Activation)   (None, 20, 439, 64)       0         \n",
            "                                                                 \n",
            " max_pooling2d_2 (MaxPooling  (None, 10, 219, 64)      0         \n",
            " 2D)                                                             \n",
            "                                                                 \n",
            " flatten (Flatten)           (None, 140160)            0         \n",
            "                                                                 \n",
            " dense (Dense)               (None, 64)                8970304   \n",
            "                                                                 \n",
            " batch_normalization_3 (Batc  (None, 64)               256       \n",
            " hNormalization)                                                 \n",
            "                                                                 \n",
            " activation_3 (Activation)   (None, 64)                0         \n",
            "                                                                 \n",
            " dense_1 (Dense)             (None, 4)                 260       \n",
            "                                                                 \n",
            "=================================================================\n",
            "Total params: 9,217,892\n",
            "Trainable params: 9,217,444\n",
            "Non-trainable params: 448\n",
            "_________________________________________________________________\n"
          ]
        }
      ],
      "source": [
        "# Cria e exibe o modelo a partir dos dados processados acima\n",
        "model = create_conv_model(len(classes_dict))\n",
        "model.summary()"
      ]
    },
    {
      "cell_type": "markdown",
      "metadata": {
        "id": "f9AQsh5ars_n"
      },
      "source": [
        "# Treinando o modelo"
      ]
    },
    {
      "cell_type": "code",
      "execution_count": null,
      "metadata": {
        "colab": {
          "base_uri": "https://localhost:8080/"
        },
        "id": "GQTAcIoK3e8w",
        "outputId": "911bca2e-c0c3-4057-e95b-63aa74310098"
      },
      "outputs": [
        {
          "output_type": "stream",
          "name": "stdout",
          "text": [
            "Epoch 1/100\n",
            "6/6 [==============================] - 23s 1s/step - loss: 1.7769 - acc: 0.3364 - val_loss: 279.3580 - val_acc: 0.1975\n",
            "Epoch 2/100\n",
            "6/6 [==============================] - 3s 503ms/step - loss: 1.2958 - acc: 0.4735 - val_loss: 102.5077 - val_acc: 0.3457\n",
            "Epoch 3/100\n",
            "6/6 [==============================] - 3s 520ms/step - loss: 1.0562 - acc: 0.5327 - val_loss: 64.4891 - val_acc: 0.3210\n",
            "Epoch 4/100\n",
            "6/6 [==============================] - 3s 480ms/step - loss: 0.9293 - acc: 0.6075 - val_loss: 33.9444 - val_acc: 0.3210\n",
            "Epoch 5/100\n",
            "6/6 [==============================] - 3s 510ms/step - loss: 0.8422 - acc: 0.6604 - val_loss: 24.6862 - val_acc: 0.3333\n",
            "Epoch 6/100\n",
            "6/6 [==============================] - 3s 516ms/step - loss: 0.7483 - acc: 0.7227 - val_loss: 18.0665 - val_acc: 0.2593\n",
            "Epoch 7/100\n",
            "6/6 [==============================] - 3s 507ms/step - loss: 0.6874 - acc: 0.7539 - val_loss: 11.7736 - val_acc: 0.2840\n",
            "Epoch 8/100\n",
            "6/6 [==============================] - 3s 506ms/step - loss: 0.5867 - acc: 0.8006 - val_loss: 7.5914 - val_acc: 0.2593\n",
            "Epoch 9/100\n",
            "6/6 [==============================] - 3s 520ms/step - loss: 0.5276 - acc: 0.8193 - val_loss: 5.4563 - val_acc: 0.2963\n",
            "Epoch 10/100\n",
            "6/6 [==============================] - 3s 519ms/step - loss: 0.4232 - acc: 0.8847 - val_loss: 4.8173 - val_acc: 0.3086\n",
            "Epoch 11/100\n",
            "6/6 [==============================] - 3s 508ms/step - loss: 0.3862 - acc: 0.8879 - val_loss: 4.2213 - val_acc: 0.3210\n",
            "Epoch 12/100\n",
            "6/6 [==============================] - 3s 491ms/step - loss: 0.3216 - acc: 0.9159 - val_loss: 4.4952 - val_acc: 0.2593\n",
            "Epoch 13/100\n",
            "6/6 [==============================] - 3s 491ms/step - loss: 0.3086 - acc: 0.9128 - val_loss: 2.3282 - val_acc: 0.3210\n",
            "Epoch 14/100\n",
            "6/6 [==============================] - 3s 523ms/step - loss: 0.2652 - acc: 0.9408 - val_loss: 2.3257 - val_acc: 0.4198\n",
            "Epoch 15/100\n",
            "6/6 [==============================] - 3s 494ms/step - loss: 0.2981 - acc: 0.9315 - val_loss: 3.4152 - val_acc: 0.3333\n",
            "Epoch 16/100\n",
            "6/6 [==============================] - 3s 493ms/step - loss: 0.2257 - acc: 0.9595 - val_loss: 2.0914 - val_acc: 0.3704\n",
            "Epoch 17/100\n",
            "6/6 [==============================] - 3s 494ms/step - loss: 0.2011 - acc: 0.9657 - val_loss: 2.4132 - val_acc: 0.3457\n",
            "Epoch 18/100\n",
            "6/6 [==============================] - 3s 503ms/step - loss: 0.1771 - acc: 0.9688 - val_loss: 2.2548 - val_acc: 0.3457\n",
            "Epoch 19/100\n",
            "6/6 [==============================] - 3s 531ms/step - loss: 0.1376 - acc: 0.9751 - val_loss: 1.3140 - val_acc: 0.5185\n",
            "Epoch 20/100\n",
            "6/6 [==============================] - 3s 522ms/step - loss: 0.1154 - acc: 0.9907 - val_loss: 2.3572 - val_acc: 0.3827\n",
            "Epoch 21/100\n",
            "6/6 [==============================] - 3s 520ms/step - loss: 0.0925 - acc: 0.9813 - val_loss: 2.1776 - val_acc: 0.3951\n",
            "Epoch 22/100\n",
            "6/6 [==============================] - 3s 525ms/step - loss: 0.0896 - acc: 0.9907 - val_loss: 1.9914 - val_acc: 0.4444\n",
            "Epoch 23/100\n",
            "6/6 [==============================] - 3s 534ms/step - loss: 0.0606 - acc: 0.9969 - val_loss: 1.7432 - val_acc: 0.4568\n",
            "Epoch 24/100\n",
            "6/6 [==============================] - 3s 506ms/step - loss: 0.0566 - acc: 0.9907 - val_loss: 1.9939 - val_acc: 0.4444\n",
            "Epoch 25/100\n",
            "6/6 [==============================] - 3s 505ms/step - loss: 0.0453 - acc: 0.9969 - val_loss: 2.0712 - val_acc: 0.4321\n",
            "Epoch 26/100\n",
            "6/6 [==============================] - 3s 507ms/step - loss: 0.0343 - acc: 0.9969 - val_loss: 1.2929 - val_acc: 0.5432\n",
            "Epoch 27/100\n",
            "6/6 [==============================] - 3s 530ms/step - loss: 0.0298 - acc: 1.0000 - val_loss: 1.4823 - val_acc: 0.5432\n",
            "Epoch 28/100\n",
            "6/6 [==============================] - 3s 536ms/step - loss: 0.0273 - acc: 1.0000 - val_loss: 1.2511 - val_acc: 0.5926\n",
            "Epoch 29/100\n",
            "6/6 [==============================] - 3s 530ms/step - loss: 0.0230 - acc: 1.0000 - val_loss: 1.2082 - val_acc: 0.5926\n",
            "Epoch 30/100\n",
            "6/6 [==============================] - 3s 511ms/step - loss: 0.0188 - acc: 1.0000 - val_loss: 1.3778 - val_acc: 0.5802\n",
            "Epoch 31/100\n",
            "6/6 [==============================] - 3s 529ms/step - loss: 0.0188 - acc: 0.9969 - val_loss: 1.2487 - val_acc: 0.6173\n",
            "Epoch 32/100\n",
            "6/6 [==============================] - 3s 530ms/step - loss: 0.0156 - acc: 0.9969 - val_loss: 1.1092 - val_acc: 0.6667\n",
            "Epoch 33/100\n",
            "6/6 [==============================] - 3s 505ms/step - loss: 0.0149 - acc: 0.9969 - val_loss: 1.1438 - val_acc: 0.6667\n",
            "Epoch 34/100\n",
            "6/6 [==============================] - 3s 528ms/step - loss: 0.0144 - acc: 0.9969 - val_loss: 1.1628 - val_acc: 0.6543\n",
            "Epoch 35/100\n",
            "6/6 [==============================] - 3s 525ms/step - loss: 0.0146 - acc: 0.9969 - val_loss: 1.0900 - val_acc: 0.6543\n",
            "Epoch 36/100\n",
            "6/6 [==============================] - 3s 545ms/step - loss: 0.0127 - acc: 0.9969 - val_loss: 1.0831 - val_acc: 0.6667\n",
            "Epoch 37/100\n",
            "6/6 [==============================] - 3s 507ms/step - loss: 0.0127 - acc: 0.9969 - val_loss: 1.1146 - val_acc: 0.6543\n",
            "Epoch 38/100\n",
            "6/6 [==============================] - 3s 506ms/step - loss: 0.0121 - acc: 1.0000 - val_loss: 1.1013 - val_acc: 0.6420\n",
            "Epoch 39/100\n",
            "6/6 [==============================] - 3s 506ms/step - loss: 0.0118 - acc: 0.9969 - val_loss: 1.0951 - val_acc: 0.6667\n",
            "Epoch 40/100\n",
            "6/6 [==============================] - 3s 532ms/step - loss: 0.0113 - acc: 0.9969 - val_loss: 1.0783 - val_acc: 0.7037\n",
            "Epoch 41/100\n",
            "6/6 [==============================] - 3s 506ms/step - loss: 0.0110 - acc: 1.0000 - val_loss: 1.0934 - val_acc: 0.6543\n",
            "Epoch 42/100\n",
            "6/6 [==============================] - 3s 527ms/step - loss: 0.0120 - acc: 0.9969 - val_loss: 1.1276 - val_acc: 0.6543\n",
            "Epoch 43/100\n",
            "6/6 [==============================] - 3s 503ms/step - loss: 0.0103 - acc: 0.9969 - val_loss: 1.1026 - val_acc: 0.6790\n",
            "Epoch 44/100\n",
            "6/6 [==============================] - 3s 534ms/step - loss: 0.0100 - acc: 1.0000 - val_loss: 1.1056 - val_acc: 0.6543\n",
            "Epoch 45/100\n",
            "6/6 [==============================] - 3s 512ms/step - loss: 0.0097 - acc: 0.9969 - val_loss: 1.0875 - val_acc: 0.6667\n",
            "Epoch 46/100\n",
            "6/6 [==============================] - 3s 523ms/step - loss: 0.0086 - acc: 1.0000 - val_loss: 1.1150 - val_acc: 0.6667\n",
            "Epoch 47/100\n",
            "6/6 [==============================] - 3s 532ms/step - loss: 0.0086 - acc: 0.9969 - val_loss: 1.1839 - val_acc: 0.6543\n",
            "Epoch 48/100\n",
            "6/6 [==============================] - 3s 529ms/step - loss: 0.0096 - acc: 0.9969 - val_loss: 1.1175 - val_acc: 0.6543\n",
            "Epoch 49/100\n",
            "6/6 [==============================] - 3s 537ms/step - loss: 0.0093 - acc: 0.9969 - val_loss: 1.0760 - val_acc: 0.6790\n",
            "Epoch 50/100\n",
            "6/6 [==============================] - 3s 525ms/step - loss: 0.0090 - acc: 1.0000 - val_loss: 1.1488 - val_acc: 0.6543\n",
            "Epoch 51/100\n",
            "6/6 [==============================] - 3s 504ms/step - loss: 0.0082 - acc: 1.0000 - val_loss: 1.1932 - val_acc: 0.6543\n",
            "Epoch 52/100\n",
            "6/6 [==============================] - 3s 525ms/step - loss: 0.0081 - acc: 1.0000 - val_loss: 1.1983 - val_acc: 0.6790\n",
            "Epoch 53/100\n",
            "6/6 [==============================] - 3s 521ms/step - loss: 0.0077 - acc: 0.9969 - val_loss: 1.1683 - val_acc: 0.6667\n",
            "Epoch 54/100\n",
            "6/6 [==============================] - 3s 528ms/step - loss: 0.0087 - acc: 0.9969 - val_loss: 1.1827 - val_acc: 0.6914\n",
            "Epoch 55/100\n",
            "6/6 [==============================] - 3s 533ms/step - loss: 0.0089 - acc: 0.9969 - val_loss: 1.1868 - val_acc: 0.6543\n",
            "Epoch 56/100\n",
            "6/6 [==============================] - 3s 529ms/step - loss: 0.0087 - acc: 0.9969 - val_loss: 1.2534 - val_acc: 0.6420\n",
            "Epoch 57/100\n",
            "6/6 [==============================] - 3s 536ms/step - loss: 0.0079 - acc: 1.0000 - val_loss: 1.2807 - val_acc: 0.6667\n",
            "Epoch 58/100\n",
            "6/6 [==============================] - 3s 531ms/step - loss: 0.0072 - acc: 0.9969 - val_loss: 1.2515 - val_acc: 0.6543\n",
            "Epoch 59/100\n",
            "6/6 [==============================] - 3s 528ms/step - loss: 0.0073 - acc: 0.9969 - val_loss: 1.2176 - val_acc: 0.6667\n",
            "Epoch 60/100\n",
            "6/6 [==============================] - 3s 508ms/step - loss: 0.0080 - acc: 0.9969 - val_loss: 1.2119 - val_acc: 0.6667\n",
            "Epoch 61/100\n",
            "6/6 [==============================] - 3s 534ms/step - loss: 0.0079 - acc: 0.9969 - val_loss: 1.1993 - val_acc: 0.6667\n",
            "Epoch 62/100\n",
            "6/6 [==============================] - 3s 529ms/step - loss: 0.0079 - acc: 1.0000 - val_loss: 1.2304 - val_acc: 0.6543\n",
            "Epoch 63/100\n",
            "6/6 [==============================] - 3s 507ms/step - loss: 0.0072 - acc: 0.9969 - val_loss: 1.2307 - val_acc: 0.6420\n",
            "Epoch 64/100\n",
            "6/6 [==============================] - 3s 526ms/step - loss: 0.0081 - acc: 0.9969 - val_loss: 1.1707 - val_acc: 0.6420\n",
            "Epoch 65/100\n",
            "6/6 [==============================] - 3s 510ms/step - loss: 0.0074 - acc: 1.0000 - val_loss: 1.1918 - val_acc: 0.6543\n",
            "Epoch 66/100\n",
            "6/6 [==============================] - 3s 539ms/step - loss: 0.0066 - acc: 0.9969 - val_loss: 1.1879 - val_acc: 0.6543\n",
            "Epoch 67/100\n",
            "6/6 [==============================] - 3s 506ms/step - loss: 0.0067 - acc: 1.0000 - val_loss: 1.1783 - val_acc: 0.6790\n",
            "Epoch 68/100\n",
            "6/6 [==============================] - 3s 506ms/step - loss: 0.0073 - acc: 0.9969 - val_loss: 1.1522 - val_acc: 0.6914\n",
            "Epoch 69/100\n",
            "6/6 [==============================] - 3s 506ms/step - loss: 0.0073 - acc: 1.0000 - val_loss: 1.2299 - val_acc: 0.6790\n",
            "Epoch 70/100\n",
            "6/6 [==============================] - 3s 540ms/step - loss: 0.0080 - acc: 0.9969 - val_loss: 1.1925 - val_acc: 0.6667\n",
            "Epoch 71/100\n",
            "6/6 [==============================] - 3s 505ms/step - loss: 0.0066 - acc: 1.0000 - val_loss: 1.2024 - val_acc: 0.6667\n",
            "Epoch 72/100\n",
            "6/6 [==============================] - 3s 504ms/step - loss: 0.0067 - acc: 0.9969 - val_loss: 1.2096 - val_acc: 0.6667\n",
            "Epoch 73/100\n",
            "6/6 [==============================] - 3s 527ms/step - loss: 0.0072 - acc: 0.9969 - val_loss: 1.1747 - val_acc: 0.6790\n",
            "Epoch 74/100\n",
            "6/6 [==============================] - 3s 532ms/step - loss: 0.0076 - acc: 0.9969 - val_loss: 1.1808 - val_acc: 0.6790\n",
            "Epoch 75/100\n",
            "6/6 [==============================] - 3s 509ms/step - loss: 0.0069 - acc: 0.9969 - val_loss: 1.1607 - val_acc: 0.6914\n",
            "Epoch 76/100\n",
            "6/6 [==============================] - 3s 504ms/step - loss: 0.0064 - acc: 1.0000 - val_loss: 1.2311 - val_acc: 0.6790\n",
            "Epoch 77/100\n",
            "6/6 [==============================] - 3s 505ms/step - loss: 0.0059 - acc: 1.0000 - val_loss: 1.2049 - val_acc: 0.6790\n",
            "Epoch 78/100\n",
            "6/6 [==============================] - 3s 529ms/step - loss: 0.0068 - acc: 0.9969 - val_loss: 1.1597 - val_acc: 0.6914\n",
            "Epoch 79/100\n",
            "6/6 [==============================] - 3s 532ms/step - loss: 0.0070 - acc: 0.9969 - val_loss: 1.2375 - val_acc: 0.6914\n",
            "Epoch 80/100\n",
            "6/6 [==============================] - 3s 502ms/step - loss: 0.0060 - acc: 0.9969 - val_loss: 1.2306 - val_acc: 0.6914\n",
            "Epoch 81/100\n",
            "6/6 [==============================] - 3s 527ms/step - loss: 0.0059 - acc: 1.0000 - val_loss: 1.1797 - val_acc: 0.6914\n",
            "Epoch 82/100\n",
            "6/6 [==============================] - 3s 504ms/step - loss: 0.0063 - acc: 0.9969 - val_loss: 1.1838 - val_acc: 0.6914\n",
            "Epoch 83/100\n",
            "6/6 [==============================] - 3s 539ms/step - loss: 0.0057 - acc: 1.0000 - val_loss: 1.1718 - val_acc: 0.6914\n",
            "Epoch 84/100\n",
            "6/6 [==============================] - 3s 527ms/step - loss: 0.0057 - acc: 0.9969 - val_loss: 1.2008 - val_acc: 0.6667\n",
            "Epoch 85/100\n",
            "6/6 [==============================] - 3s 505ms/step - loss: 0.0055 - acc: 1.0000 - val_loss: 1.1725 - val_acc: 0.6914\n",
            "Epoch 86/100\n",
            "6/6 [==============================] - 3s 506ms/step - loss: 0.0056 - acc: 1.0000 - val_loss: 1.2277 - val_acc: 0.6914\n",
            "Epoch 87/100\n",
            "6/6 [==============================] - 3s 536ms/step - loss: 0.0067 - acc: 0.9969 - val_loss: 1.1768 - val_acc: 0.7037\n",
            "Epoch 88/100\n",
            "6/6 [==============================] - 3s 506ms/step - loss: 0.0061 - acc: 0.9969 - val_loss: 1.0937 - val_acc: 0.6914\n",
            "Epoch 89/100\n",
            "6/6 [==============================] - 3s 505ms/step - loss: 0.0056 - acc: 0.9969 - val_loss: 1.1242 - val_acc: 0.7160\n",
            "Epoch 90/100\n",
            "6/6 [==============================] - 3s 506ms/step - loss: 0.0068 - acc: 0.9969 - val_loss: 1.1465 - val_acc: 0.7037\n",
            "Epoch 91/100\n",
            "6/6 [==============================] - 3s 529ms/step - loss: 0.0065 - acc: 0.9969 - val_loss: 1.1463 - val_acc: 0.6914\n",
            "Epoch 92/100\n",
            "6/6 [==============================] - 3s 517ms/step - loss: 0.0066 - acc: 0.9969 - val_loss: 1.2046 - val_acc: 0.6667\n",
            "Epoch 93/100\n",
            "6/6 [==============================] - 3s 504ms/step - loss: 0.0058 - acc: 1.0000 - val_loss: 1.1711 - val_acc: 0.6914\n",
            "Epoch 94/100\n",
            "6/6 [==============================] - 3s 504ms/step - loss: 0.0067 - acc: 0.9969 - val_loss: 1.2119 - val_acc: 0.6790\n",
            "Epoch 95/100\n",
            "6/6 [==============================] - 3s 504ms/step - loss: 0.0058 - acc: 0.9969 - val_loss: 1.1397 - val_acc: 0.6914\n",
            "Epoch 96/100\n",
            "6/6 [==============================] - 3s 519ms/step - loss: 0.0059 - acc: 0.9969 - val_loss: 1.1307 - val_acc: 0.6914\n",
            "Epoch 97/100\n",
            "6/6 [==============================] - 3s 507ms/step - loss: 0.0057 - acc: 0.9969 - val_loss: 1.2077 - val_acc: 0.6667\n",
            "Epoch 98/100\n",
            "6/6 [==============================] - 3s 503ms/step - loss: 0.0053 - acc: 0.9969 - val_loss: 1.2348 - val_acc: 0.6667\n",
            "Epoch 99/100\n",
            "6/6 [==============================] - 3s 503ms/step - loss: 0.0053 - acc: 1.0000 - val_loss: 1.1716 - val_acc: 0.6914\n",
            "Epoch 100/100\n",
            "6/6 [==============================] - 3s 509ms/step - loss: 0.0053 - acc: 0.9969 - val_loss: 1.1815 - val_acc: 0.6914\n"
          ]
        }
      ],
      "source": [
        "# Inicia o treinamento do modelo\n",
        "#callback = tf.keras.callbacks.EarlyStopping(monitor='val_acc', patience=3)\n",
        "history= model.fit(X_train, y_train,\n",
        "          batch_size=64,\n",
        "          epochs=100,\n",
        "          verbose=1,\n",
        "          validation_data=(X_test, y_test))\n",
        "                  #,callbacks=callback)"
      ]
    },
    {
      "cell_type": "markdown",
      "metadata": {
        "id": "Kifq0mu0Fbd5"
      },
      "source": [
        "# Análise da performance do modelo"
      ]
    },
    {
      "cell_type": "code",
      "execution_count": null,
      "metadata": {
        "colab": {
          "base_uri": "https://localhost:8080/"
        },
        "id": "T9xm7IMY_4UG",
        "outputId": "c75ff904-706b-46da-c95f-631fda74c8f8"
      },
      "outputs": [
        {
          "output_type": "stream",
          "name": "stdout",
          "text": [
            "Perda do teste: 1.181452989578247\n",
            "Acurácia do teste: 0.6913580298423767\n"
          ]
        }
      ],
      "source": [
        "score = model.evaluate(X_test, y_test, verbose=0)\n",
        "print('Perda do teste:', score[0])\n",
        "print('Acurácia do teste:', score[1])"
      ]
    },
    {
      "cell_type": "markdown",
      "source": [
        "## Gráficos de variação do `val_acc` e `acc`"
      ],
      "metadata": {
        "id": "bzR56O5ibycp"
      }
    },
    {
      "cell_type": "code",
      "source": [
        "plt.plot(history.history['val_acc'])\n",
        "plt.plot(history.history['acc'])\n",
        "plt.show()"
      ],
      "metadata": {
        "colab": {
          "base_uri": "https://localhost:8080/",
          "height": 430
        },
        "id": "RZA2BDuBcRr7",
        "outputId": "cebe4f91-b054-497d-bbbd-8140f3e8c1d3"
      },
      "execution_count": null,
      "outputs": [
        {
          "output_type": "display_data",
          "data": {
            "text/plain": [
              "<Figure size 640x480 with 1 Axes>"
            ],
            "image/png": "[encoded data removed]"
          },
          "metadata": {}
        }
      ]
    },
    {
      "cell_type": "markdown",
      "metadata": {
        "id": "gG2H9IS4Ehnz"
      },
      "source": [
        "## Gráficos de variação do `val_loss` e `loss`"
      ]
    },
    {
      "cell_type": "code",
      "execution_count": null,
      "metadata": {
        "colab": {
          "base_uri": "https://localhost:8080/",
          "height": 430
        },
        "id": "DMTy5jTJAeZ5",
        "outputId": "fe35a939-36a5-4104-ec71-83b1be0ee03d"
      },
      "outputs": [
        {
          "output_type": "display_data",
          "data": {
            "text/plain": [
              "<Figure size 640x480 with 1 Axes>"
            ],
            "image/png": "[encoded data removed]"
          },
          "metadata": {}
        }
      ],
      "source": [
        "# Gera os gáficos a partir as perdas obtidas pelo treinamento\n",
        "plt.plot(history.history['val_loss'])\n",
        "plt.plot(history.history['loss'])\n",
        "plt.show()"
      ]
    },
    {
      "cell_type": "markdown",
      "metadata": {
        "id": "OsQsZg6BEpfG"
      },
      "source": [
        "## Matriz de Confusão"
      ]
    },
    {
      "cell_type": "code",
      "execution_count": null,
      "metadata": {
        "colab": {
          "base_uri": "https://localhost:8080/"
        },
        "id": "aLVfkl5LAtFL",
        "outputId": "cab9c341-7a49-4057-d3a1-a7e4a9f663b1"
      },
      "outputs": [
        {
          "output_type": "stream",
          "name": "stdout",
          "text": [
            "3/3 [==============================] - 0s 74ms/step\n"
          ]
        }
      ],
      "source": [
        "# obtém as saídas reais do modelo treinado, recebendo o cj. de teste como entrada\n",
        "y_pred = model.predict(X_test)\n",
        "\n",
        "# converte para números inteiros as saídas desejadas e saídas da predição\n",
        "y_pred_int = y_pred.argmax(axis=1)\n",
        "y_test_int = y_test.argmax(axis=1)"
      ]
    },
    {
      "cell_type": "code",
      "execution_count": null,
      "metadata": {
        "colab": {
          "base_uri": "https://localhost:8080/",
          "height": 449
        },
        "id": "jNvh7PVqAwIw",
        "outputId": "d5243215-6a63-4ffb-c153-d82dea5ccc5e"
      },
      "outputs": [
        {
          "output_type": "display_data",
          "data": {
            "text/plain": [
              "<Figure size 640x480 with 2 Axes>"
            ],
            "image/png": "[encoded data removed]"
          },
          "metadata": {}
        }
      ],
      "source": [
        "# Gera matriz de confusão a partir dos resultados do treino\n",
        "ConfusionMatrixDisplay(confusion_matrix=confusion_matrix(y_test_int, y_pred_int), display_labels=classes_dict).plot()\n",
        "plt.grid(False)\n",
        "plt.show()"
      ]
    },
    {
      "cell_type": "markdown",
      "metadata": {
        "id": "PFKIJJHHFPcQ"
      },
      "source": [
        "Em nossa matriz de confusão conseguimos ver que o modelo conseguiu acertar bem suas classes de validação, tendo em suas diagonais sempre o maior valor da linha."
      ]
    },
    {
      "cell_type": "markdown",
      "metadata": {
        "id": "VbRpEkGyEt4B"
      },
      "source": [
        "## Relatório de classificação"
      ]
    },
    {
      "cell_type": "code",
      "execution_count": null,
      "metadata": {
        "colab": {
          "base_uri": "https://localhost:8080/"
        },
        "id": "9HHW1bHQAw84",
        "outputId": "6de92b9d-d7d8-4d0b-99fa-abc615614ca6"
      },
      "outputs": [
        {
          "output_type": "stream",
          "name": "stdout",
          "text": [
            "              precision    recall  f1-score   support\n",
            "\n",
            "           0       0.50      0.80      0.62        15\n",
            "           1       0.64      0.70      0.67        20\n",
            "           2       0.81      0.57      0.67        23\n",
            "           3       0.89      0.74      0.81        23\n",
            "\n",
            "    accuracy                           0.69        81\n",
            "   macro avg       0.71      0.70      0.69        81\n",
            "weighted avg       0.73      0.69      0.70        81\n",
            "\n"
          ]
        }
      ],
      "source": [
        "print(classification_report(y_test_int, y_pred_int))"
      ]
    },
    {
      "cell_type": "markdown",
      "metadata": {
        "id": "knTzqMF1yq89"
      },
      "source": [
        "# Resultados\n",
        "\n",
        "Tivemos uma acurácia aproximada de 99,5% em nossos dados de treinamento e 66,6% em nossos dados de validação.\n",
        "\n",
        "Acreditamos que alguns fatores influenciaram para essa porcentagem nos dados de validação não fosse maior:\n",
        "- A quantidade de dados que treinamos o modelo, por necessidades computacionais, foi reduzido para um número bem inferior do que seria necessário para um modelo mais robusto (usamos cerca de 105 arquivos para cada classe)\n"
      ]
    }
  ],
  "metadata": {
    "accelerator": "GPU",
    "colab": {
      "provenance": [],
      "gpuType": "T4",
      "include_colab_link": true
    },
    "kernelspec": {
      "display_name": "Python 3",
      "name": "python3"
    },
    "language_info": {
      "name": "python"
    }
  },
  "nbformat": 4,
  "nbformat_minor": 0
}